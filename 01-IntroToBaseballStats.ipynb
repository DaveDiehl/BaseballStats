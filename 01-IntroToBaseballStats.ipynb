{
 "cells": [
  {
   "cell_type": "code",
   "execution_count": 1,
   "id": "ddbec5b7",
   "metadata": {},
   "outputs": [
    {
     "data": {
      "text/html": [
       "<style>\n",
       "  table {margin-left: 0 !important;}\n",
       "</style>\n"
      ],
      "text/plain": [
       "<IPython.core.display.HTML object>"
      ]
     },
     "metadata": {},
     "output_type": "display_data"
    }
   ],
   "source": [
    "%%html\n",
    "<style>\n",
    "  table {margin-left: 0 !important;}\n",
    "</style>"
   ]
  },
  {
   "cell_type": "markdown",
   "id": "5999aadd",
   "metadata": {},
   "source": [
    "# Baseball Stats 101\n",
    "\n",
    "## A brief introduction into the world of ancient and modern baseball stats.\n",
    "\n",
    "### Purpose of this Notebook\n",
    "I would like to both introduce my son into the world of statistics as well as practice some Python development along the way.  \n",
    "\n",
    "\n",
    "### Why do we care about statistics?\n",
    "\n",
    "As a player or a fan, statistics can help you take a better guess at \"what will happen next\". \n",
    "\n",
    "Think about this . . . if your favorite team had one at bat to win the World Series, and you had one player for all time to get a hit, how would you select who to hit?\n",
    "\n",
    "Maybe Ted Williams . . . widely regarded as the best hitter to play the game.  Or would you put Chris Davis (2018 Orioles) in?\n",
    "\n",
    "| Player        |  Batting Average  |  Comment    |\n",
    "|  :---------:   |  :-----------:   | :---------: |\n",
    "| Ted Williams  |  .400             | Gets a hit 40% of the time; best hitter ever |\n",
    "| Chris Davis   |  .186             | Gets a hit 19% of the time; worst average in MLB History |\n",
    "\n",
    "I would think, all being equal, Ted Williams would be a better bet that Chris Davis. The statistics of past performance don't guarantee future results, but they do give us a hint.\n",
    "\n",
    "#### Bottom Line\n",
    "Statistics can give us an insight into the chance of what happens in the future based on past measurement.\n",
    "\n"
   ]
  },
  {
   "cell_type": "markdown",
   "id": "227772bc",
   "metadata": {},
   "source": [
    "## Getting the Data \n",
    "\n",
    "### Data Source\n",
    "\n",
    "I will be getting the data from [Baseball Data Stats here](https://github.com/chadwickbureau/baseballdatabank) from the [Chadwick Baseball Bureau](http://www.chadwick-bureau.com/)\n",
    "\n",
    "### Batting Data"
   ]
  },
  {
   "cell_type": "code",
   "execution_count": 69,
   "id": "5ea94dc6",
   "metadata": {},
   "outputs": [
    {
     "data": {
      "text/html": [
       "<div>\n",
       "<style scoped>\n",
       "    .dataframe tbody tr th:only-of-type {\n",
       "        vertical-align: middle;\n",
       "    }\n",
       "\n",
       "    .dataframe tbody tr th {\n",
       "        vertical-align: top;\n",
       "    }\n",
       "\n",
       "    .dataframe thead th {\n",
       "        text-align: right;\n",
       "    }\n",
       "</style>\n",
       "<table border=\"1\" class=\"dataframe\">\n",
       "  <thead>\n",
       "    <tr style=\"text-align: right;\">\n",
       "      <th></th>\n",
       "      <th>playerID</th>\n",
       "      <th>nameFirst</th>\n",
       "      <th>nameLast</th>\n",
       "      <th>yearID</th>\n",
       "      <th>teamID</th>\n",
       "      <th>G</th>\n",
       "      <th>AB</th>\n",
       "      <th>H</th>\n",
       "      <th>BB</th>\n",
       "      <th>HBP</th>\n",
       "      <th>SF</th>\n",
       "    </tr>\n",
       "  </thead>\n",
       "  <tbody>\n",
       "    <tr>\n",
       "      <th>0</th>\n",
       "      <td>abreubo01</td>\n",
       "      <td>Bobby</td>\n",
       "      <td>Abreu</td>\n",
       "      <td>1999</td>\n",
       "      <td>PHI</td>\n",
       "      <td>152</td>\n",
       "      <td>546</td>\n",
       "      <td>183</td>\n",
       "      <td>109</td>\n",
       "      <td>3.0</td>\n",
       "      <td>4.0</td>\n",
       "    </tr>\n",
       "    <tr>\n",
       "      <th>1</th>\n",
       "      <td>abreubo01</td>\n",
       "      <td>Bobby</td>\n",
       "      <td>Abreu</td>\n",
       "      <td>2000</td>\n",
       "      <td>PHI</td>\n",
       "      <td>154</td>\n",
       "      <td>576</td>\n",
       "      <td>182</td>\n",
       "      <td>100</td>\n",
       "      <td>1.0</td>\n",
       "      <td>3.0</td>\n",
       "    </tr>\n",
       "    <tr>\n",
       "      <th>2</th>\n",
       "      <td>abreubo01</td>\n",
       "      <td>Bobby</td>\n",
       "      <td>Abreu</td>\n",
       "      <td>2001</td>\n",
       "      <td>PHI</td>\n",
       "      <td>162</td>\n",
       "      <td>588</td>\n",
       "      <td>170</td>\n",
       "      <td>106</td>\n",
       "      <td>1.0</td>\n",
       "      <td>9.0</td>\n",
       "    </tr>\n",
       "    <tr>\n",
       "      <th>3</th>\n",
       "      <td>abreubo01</td>\n",
       "      <td>Bobby</td>\n",
       "      <td>Abreu</td>\n",
       "      <td>2002</td>\n",
       "      <td>PHI</td>\n",
       "      <td>157</td>\n",
       "      <td>572</td>\n",
       "      <td>176</td>\n",
       "      <td>104</td>\n",
       "      <td>3.0</td>\n",
       "      <td>6.0</td>\n",
       "    </tr>\n",
       "    <tr>\n",
       "      <th>4</th>\n",
       "      <td>abreubo01</td>\n",
       "      <td>Bobby</td>\n",
       "      <td>Abreu</td>\n",
       "      <td>2003</td>\n",
       "      <td>PHI</td>\n",
       "      <td>158</td>\n",
       "      <td>577</td>\n",
       "      <td>173</td>\n",
       "      <td>109</td>\n",
       "      <td>2.0</td>\n",
       "      <td>7.0</td>\n",
       "    </tr>\n",
       "    <tr>\n",
       "      <th>...</th>\n",
       "      <td>...</td>\n",
       "      <td>...</td>\n",
       "      <td>...</td>\n",
       "      <td>...</td>\n",
       "      <td>...</td>\n",
       "      <td>...</td>\n",
       "      <td>...</td>\n",
       "      <td>...</td>\n",
       "      <td>...</td>\n",
       "      <td>...</td>\n",
       "      <td>...</td>\n",
       "    </tr>\n",
       "    <tr>\n",
       "      <th>4104</th>\n",
       "      <td>zobribe01</td>\n",
       "      <td>Ben</td>\n",
       "      <td>Zobrist</td>\n",
       "      <td>2011</td>\n",
       "      <td>TBA</td>\n",
       "      <td>156</td>\n",
       "      <td>588</td>\n",
       "      <td>158</td>\n",
       "      <td>77</td>\n",
       "      <td>2.0</td>\n",
       "      <td>5.0</td>\n",
       "    </tr>\n",
       "    <tr>\n",
       "      <th>4105</th>\n",
       "      <td>zobribe01</td>\n",
       "      <td>Ben</td>\n",
       "      <td>Zobrist</td>\n",
       "      <td>2012</td>\n",
       "      <td>TBA</td>\n",
       "      <td>157</td>\n",
       "      <td>560</td>\n",
       "      <td>151</td>\n",
       "      <td>97</td>\n",
       "      <td>3.0</td>\n",
       "      <td>6.0</td>\n",
       "    </tr>\n",
       "    <tr>\n",
       "      <th>4106</th>\n",
       "      <td>zobribe01</td>\n",
       "      <td>Ben</td>\n",
       "      <td>Zobrist</td>\n",
       "      <td>2013</td>\n",
       "      <td>TBA</td>\n",
       "      <td>157</td>\n",
       "      <td>612</td>\n",
       "      <td>168</td>\n",
       "      <td>72</td>\n",
       "      <td>7.0</td>\n",
       "      <td>6.0</td>\n",
       "    </tr>\n",
       "    <tr>\n",
       "      <th>4107</th>\n",
       "      <td>zobribe01</td>\n",
       "      <td>Ben</td>\n",
       "      <td>Zobrist</td>\n",
       "      <td>2014</td>\n",
       "      <td>TBA</td>\n",
       "      <td>146</td>\n",
       "      <td>570</td>\n",
       "      <td>155</td>\n",
       "      <td>75</td>\n",
       "      <td>1.0</td>\n",
       "      <td>6.0</td>\n",
       "    </tr>\n",
       "    <tr>\n",
       "      <th>4108</th>\n",
       "      <td>zobribe01</td>\n",
       "      <td>Ben</td>\n",
       "      <td>Zobrist</td>\n",
       "      <td>2016</td>\n",
       "      <td>CHN</td>\n",
       "      <td>147</td>\n",
       "      <td>523</td>\n",
       "      <td>142</td>\n",
       "      <td>96</td>\n",
       "      <td>4.0</td>\n",
       "      <td>4.0</td>\n",
       "    </tr>\n",
       "  </tbody>\n",
       "</table>\n",
       "<p>4109 rows × 11 columns</p>\n",
       "</div>"
      ],
      "text/plain": [
       "       playerID nameFirst nameLast  yearID teamID    G   AB    H   BB  HBP  \\\n",
       "0     abreubo01     Bobby    Abreu    1999    PHI  152  546  183  109  3.0   \n",
       "1     abreubo01     Bobby    Abreu    2000    PHI  154  576  182  100  1.0   \n",
       "2     abreubo01     Bobby    Abreu    2001    PHI  162  588  170  106  1.0   \n",
       "3     abreubo01     Bobby    Abreu    2002    PHI  157  572  176  104  3.0   \n",
       "4     abreubo01     Bobby    Abreu    2003    PHI  158  577  173  109  2.0   \n",
       "...         ...       ...      ...     ...    ...  ...  ...  ...  ...  ...   \n",
       "4104  zobribe01       Ben  Zobrist    2011    TBA  156  588  158   77  2.0   \n",
       "4105  zobribe01       Ben  Zobrist    2012    TBA  157  560  151   97  3.0   \n",
       "4106  zobribe01       Ben  Zobrist    2013    TBA  157  612  168   72  7.0   \n",
       "4107  zobribe01       Ben  Zobrist    2014    TBA  146  570  155   75  1.0   \n",
       "4108  zobribe01       Ben  Zobrist    2016    CHN  147  523  142   96  4.0   \n",
       "\n",
       "       SF  \n",
       "0     4.0  \n",
       "1     3.0  \n",
       "2     9.0  \n",
       "3     6.0  \n",
       "4     7.0  \n",
       "...   ...  \n",
       "4104  5.0  \n",
       "4105  6.0  \n",
       "4106  6.0  \n",
       "4107  6.0  \n",
       "4108  4.0  \n",
       "\n",
       "[4109 rows x 11 columns]"
      ]
     },
     "execution_count": 69,
     "metadata": {},
     "output_type": "execute_result"
    }
   ],
   "source": [
    "## Give me the batting data into a dataframe\n",
    "import pandas as pd\n",
    "\n",
    "# List of Batting Stats\n",
    "battingUrl=\"https://raw.githubusercontent.com/chadwickbureau/baseballdatabank/master/core/Batting.csv\"\n",
    "dfBatting=pd.read_csv(battingUrl, usecols = ['playerID','yearID', 'G', 'teamID', 'AB', 'H', 'BB', 'HBP', 'SF'])\n",
    "dfModernBatting = dfBatting.query(\"yearID > 1976 and AB > 500 and G > 50\")\n",
    "\n",
    "# List of players, only need First and Last name for this example\n",
    "peopleUrl=\"https://raw.githubusercontent.com/chadwickbureau/baseballdatabank/master/core/People.csv\"\n",
    "dfPlayers=pd.read_csv(peopleUrl, usecols = ['playerID','nameFirst', 'nameLast'])\n",
    "\n",
    "### Now we need to join the batting and players\n",
    "dfPlayersAndBatting = dfPlayers.merge(dfModernBatting, on='playerID', how='inner')\n",
    "dfPlayersAndBatting\n"
   ]
  },
  {
   "cell_type": "markdown",
   "id": "e29460b9",
   "metadata": {},
   "source": [
    "###  Formula for Batting Average\n",
    "\n",
    "    Batting Average = Hits / At Bats\n",
    "\n",
    "Super Easy, barely an inconvience -- divide hits by your at bats and you have batting average\n"
   ]
  },
  {
   "cell_type": "code",
   "execution_count": 79,
   "id": "53b472ac",
   "metadata": {},
   "outputs": [],
   "source": [
    "def battingAverage(hits, atBats):\n",
    "    return round((hits / atBats), 3)"
   ]
  },
  {
   "cell_type": "markdown",
   "id": "77b15ad4",
   "metadata": {},
   "source": [
    "### Example: 1 -- Calculate Ben Zobrist Batting Average from 2016\n",
    "\n",
    "We should be able to get Ben Zobrist Batting Average and then use the Batting Average to Calculate"
   ]
  },
  {
   "cell_type": "code",
   "execution_count": 94,
   "id": "b6621b84",
   "metadata": {},
   "outputs": [
    {
     "data": {
      "text/html": [
       "<div>\n",
       "<style scoped>\n",
       "    .dataframe tbody tr th:only-of-type {\n",
       "        vertical-align: middle;\n",
       "    }\n",
       "\n",
       "    .dataframe tbody tr th {\n",
       "        vertical-align: top;\n",
       "    }\n",
       "\n",
       "    .dataframe thead th {\n",
       "        text-align: right;\n",
       "    }\n",
       "</style>\n",
       "<table border=\"1\" class=\"dataframe\">\n",
       "  <thead>\n",
       "    <tr style=\"text-align: right;\">\n",
       "      <th></th>\n",
       "      <th>playerID</th>\n",
       "      <th>nameFirst</th>\n",
       "      <th>nameLast</th>\n",
       "      <th>yearID</th>\n",
       "      <th>teamID</th>\n",
       "      <th>G</th>\n",
       "      <th>AB</th>\n",
       "      <th>H</th>\n",
       "      <th>BB</th>\n",
       "      <th>HBP</th>\n",
       "      <th>SF</th>\n",
       "      <th>batAvg</th>\n",
       "    </tr>\n",
       "  </thead>\n",
       "  <tbody>\n",
       "    <tr>\n",
       "      <th>4108</th>\n",
       "      <td>zobribe01</td>\n",
       "      <td>Ben</td>\n",
       "      <td>Zobrist</td>\n",
       "      <td>2016</td>\n",
       "      <td>CHN</td>\n",
       "      <td>147</td>\n",
       "      <td>523</td>\n",
       "      <td>142</td>\n",
       "      <td>96</td>\n",
       "      <td>4.0</td>\n",
       "      <td>4.0</td>\n",
       "      <td>0.272</td>\n",
       "    </tr>\n",
       "  </tbody>\n",
       "</table>\n",
       "</div>"
      ],
      "text/plain": [
       "       playerID nameFirst nameLast  yearID teamID    G   AB    H  BB  HBP  \\\n",
       "4108  zobribe01       Ben  Zobrist    2016    CHN  147  523  142  96  4.0   \n",
       "\n",
       "       SF  batAvg  \n",
       "4108  4.0   0.272  "
      ]
     },
     "execution_count": 94,
     "metadata": {},
     "output_type": "execute_result"
    }
   ],
   "source": [
    "## Get me Ben Zobrist\n",
    "zobrist2016Df = dfPlayersAndBatting.query(\"nameLast == 'Zobrist' and yearID==2016\")\n",
    "zobrist2016Df"
   ]
  },
  {
   "cell_type": "code",
   "execution_count": 81,
   "id": "62210140",
   "metadata": {},
   "outputs": [
    {
     "data": {
      "text/plain": [
       "0.272"
      ]
     },
     "execution_count": 81,
     "metadata": {},
     "output_type": "execute_result"
    }
   ],
   "source": [
    "# Give me Zobrist At bats and hits\n",
    "for stats in zobrist2016Df.itertuples():\n",
    "    zAtBats = stats.AB\n",
    "    zHits = stats.H\n",
    "\n",
    "zobristBattingAverage = battingAverage(zHits, zAtBats)\n",
    "round (zobristBattingAverage, 3)"
   ]
  },
  {
   "cell_type": "markdown",
   "id": "37ede189",
   "metadata": {},
   "source": [
    "## Calculate All Players Batting Average in Data Frame\n",
    "\n",
    "We are going to calculate Batting Average for all players in the modern era and graph"
   ]
  },
  {
   "cell_type": "code",
   "execution_count": 96,
   "id": "5114a1e9",
   "metadata": {},
   "outputs": [
    {
     "data": {
      "text/plain": [
       "<AxesSubplot:title={'center':'Batting Average by Year'}, xlabel='yearID'>"
      ]
     },
     "execution_count": 96,
     "metadata": {},
     "output_type": "execute_result"
    },
    {
     "data": {
      "image/png": "[encoded data removed]",
      "text/plain": [
       "<Figure size 504x504 with 1 Axes>"
      ]
     },
     "metadata": {
      "needs_background": "light"
     },
     "output_type": "display_data"
    }
   ],
   "source": [
    "    \n",
    "def Percentile25(x):\n",
    "    return x.quantile(0.25)\n",
    "\n",
    "def Percentile75(x):\n",
    "    return x.quantile(0.75)\n",
    "\n",
    "\n",
    "dfPlayersAndBatting['batAvg'] = battingAverage(dfPlayersAndBatting.H, dfPlayersAndBatting.AB)\n",
    "myDataFrame = dfPlayersAndBatting.groupby(by=\"yearID\").agg({'batAvg': ['mean', Percentile75, Percentile25]})\n",
    "myDataFrame.plot(y=\"batAvg\", figsize=(7,7), title=\"Batting Average by Year\")"
   ]
  },
  {
   "cell_type": "code",
   "execution_count": null,
   "id": "8db1d6f4",
   "metadata": {},
   "outputs": [],
   "source": []
  }
 ],
 "metadata": {
  "kernelspec": {
   "display_name": "Python 3 (ipykernel)",
   "language": "python",
   "name": "python3"
  },
  "language_info": {
   "codemirror_mode": {
    "name": "ipython",
    "version": 3
   },
   "file_extension": ".py",
   "mimetype": "text/x-python",
   "name": "python",
   "nbconvert_exporter": "python",
   "pygments_lexer": "ipython3",
   "version": "3.8.5"
  }
 },
 "nbformat": 4,
 "nbformat_minor": 5
}
